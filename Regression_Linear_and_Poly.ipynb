{
 "cells": [
  {
   "cell_type": "code",
   "execution_count": 96,
   "metadata": {},
   "outputs": [],
   "source": [
    "import numpy as np\n",
    "import matplotlib.pyplot as plt\n",
    "from mpl_toolkits import mplot3d\n",
    "import pandas as pd\n",
    "import scipy\n",
    "import torch\n",
    "from sklearn.compose import ColumnTransformer\n",
    "from sklearn.preprocessing import OneHotEncoder\n",
    "from sklearn.preprocessing import normalize\n",
    "from sklearn.model_selection import train_test_split\n",
    "import sklearn.metrics as metrics"
   ]
  },
  {
   "cell_type": "code",
   "execution_count": 132,
   "metadata": {},
   "outputs": [
    {
     "name": "stdout",
     "output_type": "stream",
     "text": [
      "Coefficients: \n",
      " [ 8.66383692e+01 -8.72645791e+02  7.86007422e+02  7.73467193e-01\n",
      "  3.28845975e-02  3.66100259e-02]\n",
      "R_sqrd_train = 0.9502 || R_sqrd_test = 0.9347\n",
      "MSE_train = 81571001.8008 || MSE_test = 83502864.0326\n"
     ]
    }
   ],
   "source": [
    "# Part-one: linear regression\n",
    "from sklearn.linear_model import LinearRegression\n",
    "# load data\n",
    "dataset = pd.read_csv('50_Startups.csv')\n",
    "target = dataset.values[:,-1]\n",
    "inputs = dataset.values[:,:-1]\n",
    "# column_name = dataset.columns\n",
    "\n",
    "# prepare data: \n",
    "# one-hot encoding categorical data\n",
    "ct = ColumnTransformer(transformers=[('encoder', OneHotEncoder(), [3])], remainder='passthrough')\n",
    "inputs = ct.fit_transform(inputs)\n",
    "# normalise input data\n",
    "# inputs = normalize(inputs, axis=0)\n",
    "# split data\n",
    "inputs_train, inputs_test, target_train, target_test = train_test_split(inputs, target, test_size = 0.2, random_state = 0)\n",
    "\n",
    "# model\n",
    "regressor = LinearRegression()\n",
    "regressor.fit(inputs_train, target_train)\n",
    "print(\"Coefficients: \\n\", regressor.coef_)\n",
    "# sensitivity\n",
    "# header =['California','Florida','New York','R&D Spend','Administration','Marketing Spend']\n",
    "# fig = plt.figure(figsize=(8, 4))\n",
    "# ax = fig.add_axes([0,0,1,1])\n",
    "# ax.bar(header,regressor.coef_)\n",
    "# plt.show()\n",
    "\n",
    "# eval result\n",
    "target_train_p = regressor.predict(inputs_train)\n",
    "target_test_p = regressor.predict(inputs_test)\n",
    "target_p = np.concatenate((target_train_p,target_test_p), axis=0)\n",
    "\n",
    "Rsq_train = metrics.r2_score(target_train, target_train_p)\n",
    "Rsq_test = metrics.r2_score(target_test, target_test_p)\n",
    "print(\"R_sqrd_train = %.4f || R_sqrd_test = %.4f\" % (Rsq_train, Rsq_test))\n",
    "\n",
    "MSE_train = metrics.mean_squared_error(target_train, target_train_p)\n",
    "MSE_test = metrics.mean_squared_error(target_test, target_test_p)\n",
    "print(\"MSE_train = %.4f || MSE_test = %.4f\" % (MSE_train, MSE_test))\n",
    "\n",
    "# response surface\n",
    "# fig = plt.figure(figsize=(9, 8))\n",
    "# ax = plt.axes(projection =\"3d\")\n",
    "# sctt = ax.scatter3D(inputs[:,3], inputs[:,4], target_p, s=30,\n",
    "#             alpha = 0.8, c = target_p, cmap = 'hsv', marker ='o')\n",
    "# plt.title(\"50 Startups\")\n",
    "# ax.set_xlabel('R&D Spend $', fontweight ='bold', fontsize=15, rotation=0)\n",
    "# ax.set_ylabel('Administration $', fontweight ='bold', fontsize=15, rotation=0)\n",
    "# ax.set_zlabel('Profit $', fontweight ='bold', fontsize=15, rotation=0)\n",
    "# # fig.colorbar(sctt, ax = ax, shrink = 0.5, aspect = 5)\n",
    "# plt.show()"
   ]
  },
  {
   "cell_type": "code",
   "execution_count": 144,
   "metadata": {},
   "outputs": [
    {
     "name": "stdout",
     "output_type": "stream",
     "text": [
      "Coefficients: \n",
      " [ 2.24618753e-01 -6.98446296e+03  3.34563694e+03  3.63888076e+03\n",
      "  4.24714487e-01  2.60492458e-01  1.71472340e-01 -6.98440746e+03\n",
      " -4.16535386e-07  4.45579872e-07  2.14756790e-01  1.11022944e-01\n",
      "  7.71986904e-02  3.34553696e+03  1.36508334e-08  5.52887013e-02\n",
      "  9.35970354e-02  3.70039347e-02  3.63887050e+03  7.74374710e-02\n",
      "  6.32999534e-02  5.37813659e-02 -2.32329836e-06  2.68190279e-06\n",
      "  8.24683450e-07 -5.27029967e-07 -1.88251783e-06  3.15980845e-09]\n",
      "R_sqrd_train = 0.9655 || R_sqrd_test = 0.9074\n",
      "MSE_train = 56457075.4972 || MSE_test = 118379856.8127\n"
     ]
    }
   ],
   "source": [
    "# Part-two: polynomial regression\n",
    "from sklearn.preprocessing import PolynomialFeatures\n",
    "\n",
    "# load data\n",
    "dataset = pd.read_csv('50_Startups.csv')\n",
    "target = dataset.values[:,-1]\n",
    "inputs = dataset.values[:,:-1]\n",
    "\n",
    "# prepare data\n",
    "ct = ColumnTransformer(transformers=[('encoder', OneHotEncoder(), [3])], remainder='passthrough')\n",
    "inputs = ct.fit_transform(inputs)\n",
    "poly = PolynomialFeatures(degree = 2, interaction_only=False, include_bias=True)\n",
    "poly_inputs = poly.fit_transform(inputs)\n",
    "poly_inputs_train, poly_inputs_test, target_train, target_test = train_test_split(poly_inputs, target, test_size = 0.2, random_state = 0)\n",
    "\n",
    "# model\n",
    "regressor = LinearRegression()\n",
    "regressor.fit(poly_inputs_train, target_train)\n",
    "print(\"Coefficients: \\n\", regressor.coef_)\n",
    "\n",
    "# plot result\n",
    "target_train_p = regressor.predict(poly_inputs_train)\n",
    "target_test_p = regressor.predict(poly_inputs_test)\n",
    "target_p = np.concatenate((target_train_p,target_test_p), axis=0)\n",
    "\n",
    "Rsq_train = metrics.r2_score(target_train, target_train_p)\n",
    "Rsq_test = metrics.r2_score(target_test, target_test_p)\n",
    "print(\"R_sqrd_train = %.4f || R_sqrd_test = %.4f\" % (Rsq_train, Rsq_test))\n",
    "\n",
    "MSE_train = metrics.mean_squared_error(target_train, target_train_p)\n",
    "MSE_test = metrics.mean_squared_error(target_test, target_test_p)\n",
    "print(\"MSE_train = %.4f || MSE_test = %.4f\" % (MSE_train, MSE_test))"
   ]
  },
  {
   "cell_type": "code",
   "execution_count": null,
   "metadata": {},
   "outputs": [],
   "source": []
  }
 ],
 "metadata": {
  "kernelspec": {
   "display_name": "Python 3",
   "language": "python",
   "name": "python3"
  },
  "language_info": {
   "codemirror_mode": {
    "name": "ipython",
    "version": 3
   },
   "file_extension": ".py",
   "mimetype": "text/x-python",
   "name": "python",
   "nbconvert_exporter": "python",
   "pygments_lexer": "ipython3",
   "version": "3.7.1"
  }
 },
 "nbformat": 4,
 "nbformat_minor": 2
}
